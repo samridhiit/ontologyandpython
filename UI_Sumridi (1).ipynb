{
 "cells": [
  {
   "cell_type": "code",
   "execution_count": 3,
   "id": "c12ed46f",
   "metadata": {},
   "outputs": [
    {
     "data": {
      "application/vnd.jupyter.widget-view+json": {
       "model_id": "bb274f906aee4f66aca54db61a16d789",
       "version_major": 2,
       "version_minor": 0
      },
      "text/plain": [
       "Text(value='', description='Player Name:', layout=Layout(width='300px'), placeholder='Enter player name', styl…"
      ]
     },
     "metadata": {},
     "output_type": "display_data"
    },
    {
     "data": {
      "application/vnd.jupyter.widget-view+json": {
       "model_id": "70dda028818a41d597f3300211c25cfd",
       "version_major": 2,
       "version_minor": 0
      },
      "text/plain": [
       "FloatText(value=0.0, description='Score:', layout=Layout(width='300px'), style=DescriptionStyle(description_wi…"
      ]
     },
     "metadata": {},
     "output_type": "display_data"
    },
    {
     "data": {
      "application/vnd.jupyter.widget-view+json": {
       "model_id": "e7c9c6bd31f14e8ba59e19ef5cd4a984",
       "version_major": 2,
       "version_minor": 0
      },
      "text/plain": [
       "Button(description='Add Score', layout=Layout(height='40px', width='200px'), style=ButtonStyle(button_color='l…"
      ]
     },
     "metadata": {},
     "output_type": "display_data"
    },
    {
     "data": {
      "application/vnd.jupyter.widget-view+json": {
       "model_id": "021be4bfefd84697b7273b1fb73ebc4f",
       "version_major": 2,
       "version_minor": 0
      },
      "text/plain": [
       "Button(description='Calculate Average & Highest Score', layout=Layout(height='40px', width='300px'), style=But…"
      ]
     },
     "metadata": {},
     "output_type": "display_data"
    },
    {
     "data": {
      "application/vnd.jupyter.widget-view+json": {
       "model_id": "9e4aad76d5784ee39c17a0a63b01eb04",
       "version_major": 2,
       "version_minor": 0
      },
      "text/plain": [
       "Output()"
      ]
     },
     "metadata": {},
     "output_type": "display_data"
    },
    {
     "data": {
      "text/html": [
       "<p style=\"color: purple; font-size: 16px; font-weight: bold;\">Enter player details and scores below:</p>"
      ],
      "text/plain": [
       "<IPython.core.display.HTML object>"
      ]
     },
     "metadata": {},
     "output_type": "display_data"
    },
    {
     "data": {
      "text/html": [
       "<p style=\"color: orange; font-size: 16px; font-weight: bold;\">Click 'Add Score' to add players and 'Calculate' to see results</p>"
      ],
      "text/plain": [
       "<IPython.core.display.HTML object>"
      ]
     },
     "metadata": {},
     "output_type": "display_data"
    },
    {
     "name": "stdout",
     "output_type": "stream",
     "text": [
      "Added Rohit with score: 39.0\n",
      "Added Rohit with score: 49.0\n",
      "Added Rohit with score: 72.0\n",
      "Added Rohit with score: 95.0\n",
      "Added Rohit with score: 107.0\n"
     ]
    }
   ],
   "source": [
    "import rdflib\n",
    "import ipywidgets as widgets\n",
    "from IPython.display import display, HTML\n",
    "\n",
    "# Load the ontology file (.owl)\n",
    "ontology_file = r\"C:\\Users\\Sumridi\\Downloads\\player_score.owl\"  # Update the path as per your system\n",
    "g = rdflib.Graph()\n",
    "g.parse(ontology_file, format=\"xml\")\n",
    "\n",
    "# Function to calculate the average and highest score\n",
    "def calculate_scores(player_scores):\n",
    "    # Calculate average score\n",
    "    average_score = sum(player_scores) / len(player_scores)\n",
    "    \n",
    "    # Find highest score\n",
    "    highest_score = max(player_scores)\n",
    "    \n",
    "    # Return the results\n",
    "    return average_score, highest_score\n",
    "\n",
    "# Function to add player score data into the ontology\n",
    "def add_player_scores(player_name, score):\n",
    "    # Define the player URI and create a new individual\n",
    "    player_uri = rdflib.URIRef(f\"http://example.org#{player_name.replace(' ', '')}\")\n",
    "    \n",
    "    # Add type to indicate that the individual is a PlayerScoreOperation\n",
    "    g.add((player_uri, rdflib.RDF.type, rdflib.URIRef(\"http://example.org#PlayerScoreOperation\")))\n",
    "    \n",
    "    # Add player name and score\n",
    "    g.add((player_uri, rdflib.URIRef(\"http://example.org#hasPlayerName\"), rdflib.Literal(player_name)))\n",
    "    g.add((player_uri, rdflib.URIRef(\"http://example.org#hasScore\"), rdflib.Literal(score)))\n",
    "    \n",
    "    # Save the updated ontology (optional)\n",
    "    g.serialize(destination=ontology_file, format=\"xml\")\n",
    "    print(f\"Added {player_name} with score: {score}\")\n",
    "\n",
    "# Function to display all players and their scores\n",
    "def show_players_scores():\n",
    "    query = \"\"\"\n",
    "        PREFIX ex: <http://example.org#>\n",
    "        SELECT ?player ?name ?score WHERE {\n",
    "            ?player rdf:type ex:PlayerScoreOperation .\n",
    "            ?player ex:hasPlayerName ?name .\n",
    "            ?player ex:hasScore ?score .\n",
    "        }\n",
    "    \"\"\"\n",
    "    results = g.query(query)\n",
    "    players_scores = []\n",
    "    for row in results:\n",
    "        players_scores.append(f\"Player: {row.name}, Score: {row.score}\")\n",
    "    return \"\\n\".join(players_scores) if players_scores else \"No players found.\"\n",
    "\n",
    "# Widgets for user input\n",
    "player_name_input = widgets.Text(\n",
    "    description=\"Player Name:\",\n",
    "    placeholder=\"Enter player name\",\n",
    "    style={'description_width': 'initial'},\n",
    "    layout=widgets.Layout(width='300px'),\n",
    "    background_color='lightyellow',\n",
    "    font_weight='bold',\n",
    "    color='blue'\n",
    ")\n",
    "\n",
    "player_score_input = widgets.FloatText(\n",
    "    description=\"Score:\",\n",
    "    placeholder=\"Enter player score\",\n",
    "    style={'description_width': 'initial'},\n",
    "    layout=widgets.Layout(width='300px'),\n",
    "    background_color='lightblue',\n",
    "    font_weight='bold',\n",
    "    color='green'\n",
    ")\n",
    "\n",
    "# Buttons for adding player scores and calculating results\n",
    "add_score_button = widgets.Button(description=\"Add Score\", layout=widgets.Layout(width='200px', height='40px'), style={'button_color': 'lightgreen'})\n",
    "calculate_button = widgets.Button(description=\"Calculate Average & Highest Score\", layout=widgets.Layout(width='300px', height='40px'), style={'button_color': 'lightcoral'})\n",
    "\n",
    "# Output display area\n",
    "output = widgets.Output()\n",
    "\n",
    "# Function to add player score when button is clicked\n",
    "def on_add_score_button_click(b):\n",
    "    player_name = player_name_input.value\n",
    "    player_score = player_score_input.value\n",
    "    if player_name and player_score:\n",
    "        add_player_scores(player_name, player_score)\n",
    "    else:\n",
    "        print(\"Please provide valid player name and score.\")\n",
    "\n",
    "add_score_button.on_click(on_add_score_button_click)\n",
    "\n",
    "# Function to calculate and display average and highest score when button is clicked\n",
    "def on_calculate_button_click(b):\n",
    "    with output:\n",
    "        # Query for player scores\n",
    "        query = \"\"\"\n",
    "            PREFIX ex: <http://example.org#>\n",
    "            SELECT ?score WHERE {\n",
    "                ?player rdf:type ex:PlayerScoreOperation .\n",
    "                ?player ex:hasScore ?score .\n",
    "            }\n",
    "        \"\"\"\n",
    "        results = g.query(query)\n",
    "        \n",
    "        # Extract player scores\n",
    "        player_scores = [float(row.score) for row in results]\n",
    "        \n",
    "        if player_scores:\n",
    "            average_score, highest_score = calculate_scores(player_scores)\n",
    "            print(f\"Average Score: {average_score:.2f}\")\n",
    "            print(f\"Highest Score: {highest_score}\")\n",
    "        else:\n",
    "            print(\"No player scores found.\")\n",
    "\n",
    "calculate_button.on_click(on_calculate_button_click)\n",
    "\n",
    "# Styling for display messages\n",
    "def display_message(msg, color):\n",
    "    display(HTML(f'<p style=\"color: {color}; font-size: 16px; font-weight: bold;\">{msg}</p>'))\n",
    "\n",
    "# Display the widgets\n",
    "display(player_name_input, player_score_input, add_score_button, calculate_button, output)\n",
    "\n",
    "# Display player scores\n",
    "display_message(\"Enter player details and scores below:\", \"purple\")\n",
    "display_message(\"Click 'Add Score' to add players and 'Calculate' to see results\", \"orange\")\n"
   ]
  },
  {
   "cell_type": "code",
   "execution_count": null,
   "id": "8734e823",
   "metadata": {},
   "outputs": [],
   "source": []
  }
 ],
 "metadata": {
  "kernelspec": {
   "display_name": "Python 3 (ipykernel)",
   "language": "python",
   "name": "python3"
  },
  "language_info": {
   "codemirror_mode": {
    "name": "ipython",
    "version": 3
   },
   "file_extension": ".py",
   "mimetype": "text/x-python",
   "name": "python",
   "nbconvert_exporter": "python",
   "pygments_lexer": "ipython3",
   "version": "3.9.7"
  }
 },
 "nbformat": 4,
 "nbformat_minor": 5
}
